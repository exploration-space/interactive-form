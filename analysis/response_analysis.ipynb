{
 "cells": [
  {
   "cell_type": "code",
   "execution_count": 1,
   "metadata": {},
   "outputs": [],
   "source": [
    "import os\n",
    "import pandas as pd\n",
    "import json\n",
    "\n",
    "from typing import Dict"
   ]
  },
  {
   "cell_type": "markdown",
   "metadata": {},
   "source": [
    "# Interactive form analysis"
   ]
  },
  {
   "cell_type": "code",
   "execution_count": 2,
   "metadata": {},
   "outputs": [],
   "source": [
    "output_dir = './output'"
   ]
  },
  {
   "cell_type": "code",
   "execution_count": 3,
   "metadata": {},
   "outputs": [],
   "source": [
    "response_filenames = os.listdir(output_dir)"
   ]
  },
  {
   "cell_type": "code",
   "execution_count": 4,
   "metadata": {},
   "outputs": [],
   "source": [
    "response_paths = map(lambda file: os.path.join(output_dir, file), response_filenames)"
   ]
  },
  {
   "cell_type": "markdown",
   "metadata": {},
   "source": [
    "### 1. Retrieval of the responses\n",
    "\n",
    "Schema for the response JSON (in Golang)\n",
    "\n",
    "```\n",
    "type annotationType struct {\n",
    "\tSource              string   `json:\"source\"`\n",
    "\tWords               []int    `json:\"words\"`\n",
    "\tUserCategories      []string `json:\"userCategories\"`\n",
    "\tProvidedhCategories []string `json:\"providedhCategories\"`\n",
    "}\n",
    "\n",
    "type userType struct {\n",
    "\tAge        int    `json:\"age\"`\n",
    "\tGender     string `json:\"gender\"`\n",
    "\tEducation  string `json:\"education\"`\n",
    "\tField      string `json:\"field\"`\n",
    "\tPreviousDH string `json:\"previousDH\"`\n",
    "\tResearcher string `json:\"researcher\"`\n",
    "}\n",
    "\n",
    "type taxonomyVersion []string\n",
    "\n",
    "type taxonomyType struct {\n",
    "\tNewCategory     string            `json:\"newCategory\"`\n",
    "\tDraggedCategory string            `json:\"draggedCategory\"`\n",
    "\tCategories      taxonomyVersion   `json:\"categories\"`\n",
    "\tHistoric        []taxonomyVersion `json:\"historic\"`\n",
    "}\n",
    "\n",
    "type Response struct {\n",
    "\tAnnotations []annotationType `json:\"annotations\"`\n",
    "\tUser        userType         `json:\"user\"`\n",
    "\tTaxonomy    taxonomyType     `json:\"taxonomy\"`\n",
    "}\n",
    "```"
   ]
  },
  {
   "cell_type": "code",
   "execution_count": 5,
   "metadata": {},
   "outputs": [],
   "source": [
    "def dict_from_json(filepath: str) -> Dict:\n",
    "    try:\n",
    "        with open(filepath, 'r') as f:\n",
    "            contents = f.read()\n",
    "    except Exception as e:\n",
    "        print(e)\n",
    "        return dict()\n",
    "    \n",
    "    try:\n",
    "        dictionary = json.loads(contents)\n",
    "        return dictionary\n",
    "    except Exception as e:\n",
    "        print(e)\n",
    "        return dict()"
   ]
  },
  {
   "cell_type": "code",
   "execution_count": 6,
   "metadata": {},
   "outputs": [],
   "source": [
    "response_dicts = map(dict_from_json, response_paths)\n",
    "responses = zip(response_filenames, response_dicts)"
   ]
  },
  {
   "cell_type": "markdown",
   "metadata": {},
   "source": [
    "### 2. Create the Pandas dataframe"
   ]
  },
  {
   "cell_type": "code",
   "execution_count": 7,
   "metadata": {},
   "outputs": [],
   "source": [
    "annotations_df = pd.DataFrame(columns=[\n",
    "    'file', \n",
    "    'source', \n",
    "    'user_categories', \n",
    "    'providedh_categories', \n",
    "    'annotated_text',\n",
    "    'start_index',\n",
    "    'end_index',\n",
    "])\n",
    "\n",
    "users_df = pd.DataFrame(columns=[\n",
    "    'file',\n",
    "    'age',\n",
    "    'gender',\n",
    "    'education',\n",
    "    'field',\n",
    "    'previous_dh',\n",
    "    'researcher'\n",
    "])\n",
    "\n",
    "taxonomy_df = pd.DataFrame(columns=[\n",
    "    'file',\n",
    "    'name'\n",
    "])\n",
    "\n",
    "taxonomy_versions = dict()"
   ]
  },
  {
   "cell_type": "code",
   "execution_count": 8,
   "metadata": {},
   "outputs": [],
   "source": [
    "for [file, response_dict] in responses:\n",
    "    # annotations\n",
    "    for annotation in response_dict['annotations']:\n",
    "        annotations_df.loc[len(annotations_df), :] = {\n",
    "            'file': file, \n",
    "            'source': annotation['source'], \n",
    "            'user_categories': ','.join(annotation['userCategories']),\n",
    "            'providedh_categories': ','.join(annotation['providedhCategories']),\n",
    "            'annotated_text': '',#annotation[''],\n",
    "            'start_index': annotation['words'][0],\n",
    "            'end_index': annotation['words'][1]\n",
    "        }\n",
    "    \n",
    "    # user details\n",
    "    users_df.loc[len(users_df), :] = {\n",
    "        'file': file,\n",
    "        'age': response_dict['user']['age'],\n",
    "        'gender': response_dict['user']['gender'],\n",
    "        'education': response_dict['user']['education'],\n",
    "        'field': response_dict['user']['field'],\n",
    "        'previous_dh': response_dict['user']['previousDH'],\n",
    "        'researcher': response_dict['user']['researcher']\n",
    "    }\n",
    "    \n",
    "    # taxonomy\n",
    "    for category in response_dict['taxonomy']['categories']:\n",
    "        taxonomy_df.loc[len(taxonomy_df), :] = {\n",
    "            'file': file,\n",
    "            'name': category\n",
    "        }\n",
    "        \n",
    "    #historic\n",
    "    taxonomy_versions[file] = response_dict['taxonomy']['historic']"
   ]
  },
  {
   "cell_type": "code",
   "execution_count": 9,
   "metadata": {
    "scrolled": true
   },
   "outputs": [
    {
     "data": {
      "text/html": [
       "<div>\n",
       "<style scoped>\n",
       "    .dataframe tbody tr th:only-of-type {\n",
       "        vertical-align: middle;\n",
       "    }\n",
       "\n",
       "    .dataframe tbody tr th {\n",
       "        vertical-align: top;\n",
       "    }\n",
       "\n",
       "    .dataframe thead th {\n",
       "        text-align: right;\n",
       "    }\n",
       "</style>\n",
       "<table border=\"1\" class=\"dataframe\">\n",
       "  <thead>\n",
       "    <tr style=\"text-align: right;\">\n",
       "      <th></th>\n",
       "      <th>file</th>\n",
       "      <th>source</th>\n",
       "      <th>user_categories</th>\n",
       "      <th>providedh_categories</th>\n",
       "      <th>annotated_text</th>\n",
       "      <th>start_index</th>\n",
       "      <th>end_index</th>\n",
       "    </tr>\n",
       "  </thead>\n",
       "  <tbody>\n",
       "    <tr>\n",
       "      <th>0</th>\n",
       "      <td>reponse_8.json</td>\n",
       "      <td>3</td>\n",
       "      <td>Ambiguity</td>\n",
       "      <td>Ignorance</td>\n",
       "      <td></td>\n",
       "      <td>33</td>\n",
       "      <td>36</td>\n",
       "    </tr>\n",
       "  </tbody>\n",
       "</table>\n",
       "</div>"
      ],
      "text/plain": [
       "             file source user_categories providedh_categories annotated_text  \\\n",
       "0  reponse_8.json      3       Ambiguity            Ignorance                  \n",
       "\n",
       "  start_index end_index  \n",
       "0          33        36  "
      ]
     },
     "execution_count": 9,
     "metadata": {},
     "output_type": "execute_result"
    }
   ],
   "source": [
    "annotations_df"
   ]
  },
  {
   "cell_type": "code",
   "execution_count": 10,
   "metadata": {},
   "outputs": [
    {
     "data": {
      "text/html": [
       "<div>\n",
       "<style scoped>\n",
       "    .dataframe tbody tr th:only-of-type {\n",
       "        vertical-align: middle;\n",
       "    }\n",
       "\n",
       "    .dataframe tbody tr th {\n",
       "        vertical-align: top;\n",
       "    }\n",
       "\n",
       "    .dataframe thead th {\n",
       "        text-align: right;\n",
       "    }\n",
       "</style>\n",
       "<table border=\"1\" class=\"dataframe\">\n",
       "  <thead>\n",
       "    <tr style=\"text-align: right;\">\n",
       "      <th></th>\n",
       "      <th>file</th>\n",
       "      <th>age</th>\n",
       "      <th>gender</th>\n",
       "      <th>education</th>\n",
       "      <th>field</th>\n",
       "      <th>previous_dh</th>\n",
       "      <th>researcher</th>\n",
       "    </tr>\n",
       "  </thead>\n",
       "  <tbody>\n",
       "    <tr>\n",
       "      <th>0</th>\n",
       "      <td>reponse_8.json</td>\n",
       "      <td>40</td>\n",
       "      <td>Unspecified</td>\n",
       "      <td></td>\n",
       "      <td></td>\n",
       "      <td>no</td>\n",
       "      <td>no</td>\n",
       "    </tr>\n",
       "    <tr>\n",
       "      <th>1</th>\n",
       "      <td>reponse_7.json</td>\n",
       "      <td>40</td>\n",
       "      <td>Unspecified</td>\n",
       "      <td></td>\n",
       "      <td></td>\n",
       "      <td>no</td>\n",
       "      <td>no</td>\n",
       "    </tr>\n",
       "  </tbody>\n",
       "</table>\n",
       "</div>"
      ],
      "text/plain": [
       "             file age       gender education field previous_dh researcher\n",
       "0  reponse_8.json  40  Unspecified                          no         no\n",
       "1  reponse_7.json  40  Unspecified                          no         no"
      ]
     },
     "execution_count": 10,
     "metadata": {},
     "output_type": "execute_result"
    }
   ],
   "source": [
    "users_df"
   ]
  },
  {
   "cell_type": "code",
   "execution_count": 12,
   "metadata": {},
   "outputs": [
    {
     "data": {
      "text/html": [
       "<div>\n",
       "<style scoped>\n",
       "    .dataframe tbody tr th:only-of-type {\n",
       "        vertical-align: middle;\n",
       "    }\n",
       "\n",
       "    .dataframe tbody tr th {\n",
       "        vertical-align: top;\n",
       "    }\n",
       "\n",
       "    .dataframe thead th {\n",
       "        text-align: right;\n",
       "    }\n",
       "</style>\n",
       "<table border=\"1\" class=\"dataframe\">\n",
       "  <thead>\n",
       "    <tr style=\"text-align: right;\">\n",
       "      <th></th>\n",
       "      <th>file</th>\n",
       "      <th>name</th>\n",
       "    </tr>\n",
       "  </thead>\n",
       "  <tbody>\n",
       "    <tr>\n",
       "      <th>0</th>\n",
       "      <td>reponse_8.json</td>\n",
       "      <td>Ambiguity</td>\n",
       "    </tr>\n",
       "    <tr>\n",
       "      <th>1</th>\n",
       "      <td>reponse_8.json</td>\n",
       "      <td>gaps</td>\n",
       "    </tr>\n",
       "    <tr>\n",
       "      <th>2</th>\n",
       "      <td>reponse_7.json</td>\n",
       "      <td>Ambiguity</td>\n",
       "    </tr>\n",
       "    <tr>\n",
       "      <th>3</th>\n",
       "      <td>reponse_7.json</td>\n",
       "      <td>gaps</td>\n",
       "    </tr>\n",
       "  </tbody>\n",
       "</table>\n",
       "</div>"
      ],
      "text/plain": [
       "             file       name\n",
       "0  reponse_8.json  Ambiguity\n",
       "1  reponse_8.json       gaps\n",
       "2  reponse_7.json  Ambiguity\n",
       "3  reponse_7.json       gaps"
      ]
     },
     "execution_count": 12,
     "metadata": {},
     "output_type": "execute_result"
    }
   ],
   "source": [
    "taxonomy_df"
   ]
  },
  {
   "cell_type": "code",
   "execution_count": 13,
   "metadata": {},
   "outputs": [
    {
     "data": {
      "text/plain": [
       "{'reponse_8.json': [['Ambiguity'], ['Ambiguity', 'gaps']],\n",
       " 'reponse_7.json': [['Ambiguity'], ['Ambiguity', 'gaps']]}"
      ]
     },
     "execution_count": 13,
     "metadata": {},
     "output_type": "execute_result"
    }
   ],
   "source": [
    "taxonomy_versions"
   ]
  }
 ],
 "metadata": {
  "kernelspec": {
   "display_name": "Python 3",
   "language": "python",
   "name": "python3"
  },
  "language_info": {
   "codemirror_mode": {
    "name": "ipython",
    "version": 3
   },
   "file_extension": ".py",
   "mimetype": "text/x-python",
   "name": "python",
   "nbconvert_exporter": "python",
   "pygments_lexer": "ipython3",
   "version": "3.8.2"
  }
 },
 "nbformat": 4,
 "nbformat_minor": 4
}
